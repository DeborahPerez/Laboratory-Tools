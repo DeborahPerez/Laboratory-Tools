{
 "cells": [
  {
   "cell_type": "code",
   "execution_count": 12,
   "metadata": {
    "collapsed": false
   },
   "outputs": [
    {
     "name": "stdout",
     "output_type": "stream",
     "text": [
      "   November 2015\n",
      "Su Mo Tu We Th Fr Sa\n",
      " 1  2  3  4  5  6  7\n",
      " 8  9 10 11 12 13 14\n",
      "15 16 17 18 19 20 21\n",
      "22 23 24 25 26 27 28\n",
      "29 30\n",
      "                                               2015\n",
      "\n",
      "      January                   February                   March                     April\n",
      "Su Mo Tu We Th Fr Sa      Su Mo Tu We Th Fr Sa      Su Mo Tu We Th Fr Sa      Su Mo Tu We Th Fr Sa\n",
      "             1  2  3       1  2  3  4  5  6  7       1  2  3  4  5  6  7                1  2  3  4\n",
      " 4  5  6  7  8  9 10       8  9 10 11 12 13 14       8  9 10 11 12 13 14       5  6  7  8  9 10 11\n",
      "11 12 13 14 15 16 17      15 16 17 18 19 20 21      15 16 17 18 19 20 21      12 13 14 15 16 17 18\n",
      "18 19 20 21 22 23 24      22 23 24 25 26 27 28      22 23 24 25 26 27 28      19 20 21 22 23 24 25\n",
      "25 26 27 28 29 30 31                                29 30 31                  26 27 28 29 30\n",
      "\n",
      "        May                       June                      July                     August\n",
      "Su Mo Tu We Th Fr Sa      Su Mo Tu We Th Fr Sa      Su Mo Tu We Th Fr Sa      Su Mo Tu We Th Fr Sa\n",
      "                1  2          1  2  3  4  5  6                1  2  3  4                         1\n",
      " 3  4  5  6  7  8  9       7  8  9 10 11 12 13       5  6  7  8  9 10 11       2  3  4  5  6  7  8\n",
      "10 11 12 13 14 15 16      14 15 16 17 18 19 20      12 13 14 15 16 17 18       9 10 11 12 13 14 15\n",
      "17 18 19 20 21 22 23      21 22 23 24 25 26 27      19 20 21 22 23 24 25      16 17 18 19 20 21 22\n",
      "24 25 26 27 28 29 30      28 29 30                  26 27 28 29 30 31         23 24 25 26 27 28 29\n",
      "31                                                                            30 31\n",
      "\n",
      "     September                  October                   November                  December\n",
      "Su Mo Tu We Th Fr Sa      Su Mo Tu We Th Fr Sa      Su Mo Tu We Th Fr Sa      Su Mo Tu We Th Fr Sa\n",
      "       1  2  3  4  5                   1  2  3       1  2  3  4  5  6  7             1  2  3  4  5\n",
      " 6  7  8  9 10 11 12       4  5  6  7  8  9 10       8  9 10 11 12 13 14       6  7  8  9 10 11 12\n",
      "13 14 15 16 17 18 19      11 12 13 14 15 16 17      15 16 17 18 19 20 21      13 14 15 16 17 18 19\n",
      "20 21 22 23 24 25 26      18 19 20 21 22 23 24      22 23 24 25 26 27 28      20 21 22 23 24 25 26\n",
      "27 28 29 30               25 26 27 28 29 30 31      29 30                     27 28 29 30 31\n",
      "\n",
      "11/19/2015\n",
      "Today              : 2015-11-19\n",
      "5 Days Expiration  : 2015-11-24\n",
      "1 Week Expiration  : 2015-11-26\n",
      "2 Weeks Expiration : 2015-12-03\n",
      "3 Weeks Expiration : 2015-12-10\n",
      "6 Weeks Expiration : 2015-12-31\n"
     ]
    }
   ],
   "source": [
    "#Description: Media Room Expiration Dates project designed to speed up the work process by displaying expiration dates \n",
    "#relative to the present julian date\n",
    "\n",
    "#By: Deborah Perez\n",
    "\n",
    "#Import calendar module, once.\n",
    "import calendar\n",
    "\n",
    "#Formatted as Sunday to Saturday\n",
    "c = calendar.TextCalendar(calendar.SUNDAY)\n",
    "\n",
    "#set the current month to be november 2015 \n",
    "c.prmonth(2015, 11)\n",
    "\n",
    "#print calendar year formatted as Sunday to Saturday\n",
    "#formatyear parameters(year, width, legnth, spacing in between months, months per row)\n",
    "print calendar.TextCalendar(calendar.SUNDAY).formatyear(2015, 2, 1, 6, 4)\n",
    "\n",
    "#import time module\n",
    "import time\n",
    "#print current day in mm/dd/yyyy format\n",
    "print (time.strftime(\"%m/%d/%Y\"))\n",
    "\n",
    "#Import Datetime module\n",
    "import datetime\n",
    "#today's date\n",
    "today = datetime.date.today()\n",
    "print 'Today              :', today\n",
    "\n",
    "#5 days calculation for expiration date in calendar days\n",
    "fivedays = datetime.timedelta(days=5)\n",
    "expfivedays = today + fivedays\n",
    "print '5 Days Expiration  :', expfivedays\n",
    "\n",
    "#1 week calculation for expiration date in calendar days\n",
    "oneweek = datetime.timedelta(days=7)\n",
    "exponeweek = today + oneweek\n",
    "print '1 Week Expiration  :', exponeweek\n",
    "\n",
    "#2 weeks calculation for expiration date in calendar days\n",
    "twoweeks = datetime.timedelta(days=14)\n",
    "exptwoweeks = today + twoweeks\n",
    "print '2 Weeks Expiration :', exptwoweeks\n",
    "\n",
    "#3 weeks calculation for expiration date in calendar days\n",
    "threeweeks = datetime.timedelta(days=21)\n",
    "expthreeweeks = today + threeweeks\n",
    "print '3 Weeks Expiration :', expthreeweeks\n",
    "\n",
    "#6 weeks calculation for expiration date in calendar days\n",
    "sixweeks = datetime.timedelta(days=42)\n",
    "expsixweeks = today + sixweeks\n",
    "print '6 Weeks Expiration :', expsixweeks\n",
    "\n",
    "\n",
    "\n"
   ]
  },
  {
   "cell_type": "code",
   "execution_count": null,
   "metadata": {
    "collapsed": true
   },
   "outputs": [],
   "source": []
  }
 ],
 "metadata": {
  "kernelspec": {
   "display_name": "Python 2",
   "language": "python",
   "name": "python2"
  },
  "language_info": {
   "codemirror_mode": {
    "name": "ipython",
    "version": 2
   },
   "file_extension": ".py",
   "mimetype": "text/x-python",
   "name": "python",
   "nbconvert_exporter": "python",
   "pygments_lexer": "ipython2",
   "version": "2.7.10"
  }
 },
 "nbformat": 4,
 "nbformat_minor": 0
}
